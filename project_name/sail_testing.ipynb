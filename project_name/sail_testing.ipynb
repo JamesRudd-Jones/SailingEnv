{
 "cells": [
  {
   "cell_type": "code",
   "id": "initial_id",
   "metadata": {
    "collapsed": true,
    "ExecuteTime": {
     "end_time": "2025-06-27T12:33:08.402884Z",
     "start_time": "2025-06-27T12:33:07.866310Z"
    }
   },
   "source": [
    "import matplotlib.pyplot as plt\n",
    "import jax.numpy as jnp\n",
    "import jax"
   ],
   "outputs": [],
   "execution_count": 2
  },
  {
   "metadata": {
    "ExecuteTime": {
     "end_time": "2025-06-27T12:35:29.917181Z",
     "start_time": "2025-06-27T12:35:29.914229Z"
    }
   },
   "cell_type": "code",
   "source": [
    "def global_to_boat(boat_heading, global_val):\n",
    "    boat_x = global_val[0] * jnp.sin(boat_heading) + global_val[1] * jnp.cos(boat_heading)\n",
    "    boat_y = global_val[1] * jnp.sin(boat_heading) - global_val[0] * jnp.cos(boat_heading)\n",
    "\n",
    "    return jnp.array((boat_x.squeeze(), boat_y.squeeze()))"
   ],
   "id": "eda2c0bd8c2abdce",
   "outputs": [],
   "execution_count": 11
  },
  {
   "metadata": {
    "ExecuteTime": {
     "end_time": "2025-06-27T12:47:58.689888Z",
     "start_time": "2025-06-27T12:47:58.686891Z"
    }
   },
   "cell_type": "code",
   "source": [
    "air_kinematic_viscosity = 0.0000171\n",
    "air_density =  1.3\n",
    "sail_area = 6.2 # [m^2]\n",
    "sail_chord = 2  # [m]  # TODO sort these values out\n",
    "sail_span = sail_area / sail_chord  # [m]\n",
    "sail_aspect_ratio = sail_span / sail_chord"
   ],
   "id": "c5a4ded50670012d",
   "outputs": [],
   "execution_count": 18
  },
  {
   "metadata": {
    "ExecuteTime": {
     "end_time": "2025-06-27T13:09:31.547290Z",
     "start_time": "2025-06-27T13:09:31.477198Z"
    }
   },
   "cell_type": "code",
   "source": [
    "wind_dir = 180.0  # deg\n",
    "wind_speed = 5.0  # in ms^-1\n",
    "wind_vel = wind_speed * jnp.array((jnp.sin(jnp.radians(wind_dir)),\n",
    "                                jnp.cos(jnp.radians(wind_dir))))\n",
    "\n",
    "boat_dir = jnp.array((1.0, 0.0))\n",
    "boat_vel = jnp.array((0.0,\n",
    "                      0.0))\n",
    "sail_angle = jnp.radians(45.0)\n",
    "# boat_heading = jnp.radians(jnp.ones(()) * 315)\n",
    "boat_heading = jnp.radians(jnp.ones(()) * 90)\n",
    "# boat_heading = jnp.radians(jnp.ones(()) * 270)\n",
    "transformed_wind = global_to_boat(boat_heading, wind_vel)\n",
    "apparent_wind = transformed_wind - boat_vel\n",
    "apparent_wind_angle = jnp.arctan2(apparent_wind[1], apparent_wind[0])\n",
    "apparent_wind_speed = jnp.sqrt(apparent_wind[0] ** 2 + apparent_wind[1] ** 2)\n",
    "\n",
    "print(f\"AWA = {jnp.degrees(apparent_wind_angle)}\")\n",
    "\n",
    "true_sail_angle = jnp.copysign(sail_angle, -apparent_wind_angle)  # prevents sign of 0 when AWA == 0\n",
    "# reversed_apparent_wind_angle = jnp.copysign((jnp.pi - jnp.abs(apparent_wind_angle)), apparent_wind_angle)  # TODO a way to ensure correct direction?\n",
    "# aoa = reversed_apparent_wind_angle - true_sail_angle\n",
    "aoa = apparent_wind_angle + true_sail_angle\n",
    "print(f\"TSA = {jnp.degrees(true_sail_angle)}\")\n",
    "print(f\"AOA = {jnp.degrees(aoa)}\")\n",
    "# TODO check the above\n",
    "\n",
    "# Calc sail force\n",
    "aoa = jax.lax.select(aoa * true_sail_angle < 0, 0.0, aoa)\n",
    "eff_aoa = aoa  # eff_aoa : effective angle of attack\n",
    "eff_aoa = jnp.where(aoa < -jnp.pi / 2, jnp.pi + aoa, eff_aoa)\n",
    "eff_aoa = jnp.where(aoa > jnp.pi / 2, -jnp.pi + aoa, eff_aoa)\n",
    "\n",
    "pressure = 0.5 * air_density * apparent_wind_speed ** 2 * jnp.cos(jnp.cos(sail_angle))**2\n",
    "\n",
    "aero_friction = jax.lax.select(apparent_wind_speed != 0,\n",
    "                               3.55 / jnp.sqrt((apparent_wind_speed * sail_chord) / air_kinematic_viscosity),\n",
    "                               0.0)\n",
    "\n",
    "separation = 1 - jnp.exp(-((jnp.abs(eff_aoa)) / (jnp.pi / 180 * 25)) ** 2)\n",
    "\n",
    "coeff_lift = 2 * jnp.pi * eff_aoa\n",
    "coeff_drag = aero_friction + ((coeff_lift ** 2 * separation) / (jnp.pi * sail_aspect_ratio))\n",
    "\n",
    "sail_lift = pressure * sail_area * coeff_lift\n",
    "sail_drag = pressure * sail_area * coeff_drag\n",
    "\n",
    "separated_force_x = jnp.sign(aoa) * pressure * sail_area * jnp.sin(aoa)**2 * jnp.sin(sail_angle)\n",
    "separated_force_y = -jnp.sign(aoa) * pressure * sail_area * jnp.sin(aoa)**2 * jnp.cos(sail_angle)\n",
    "\n",
    "sail_force_x = (1 - separation) * (sail_lift * jnp.sin(apparent_wind_angle) - sail_drag * jnp.cos(apparent_wind_angle)) + separation * separated_force_x\n",
    "sail_force_y = (1 - separation) * (-sail_drag * jnp.sin(apparent_wind_angle) - sail_lift * jnp.cos(apparent_wind_angle)) + separation * separated_force_y\n",
    "\n",
    "rotation_matrix = jnp.array([[jnp.cos(apparent_wind_angle), -jnp.sin(apparent_wind_angle)],\n",
    "                             [jnp.sin(apparent_wind_angle), jnp.cos(apparent_wind_angle)]])\n",
    "awa_vec = rotation_matrix.dot(boat_dir)\n",
    "\n",
    "rotation_matrix = jnp.array([[jnp.cos(true_sail_angle), -jnp.sin(true_sail_angle)],\n",
    "                             [jnp.sin(true_sail_angle), jnp.cos(true_sail_angle)]])\n",
    "sail_vec = rotation_matrix.dot(boat_dir)\n",
    "\n",
    "plt.arrow(0, 0, boat_dir[0], boat_dir[1], head_width=0.2, label=\"Boat\")\n",
    "plt.arrow(0, 0, awa_vec[0], awa_vec[1], head_width=0.2, color=\"Blue\", label=\"Apparent Wind\")\n",
    "plt.arrow(0, 0, -sail_vec[0], -sail_vec[1], head_width=0.2, color=\"Yellow\", label=\"Sail\")\n",
    "plt.arrow(0, 0, sail_force_x * jnp.sign(boat_dir[0]), 0, head_width=0.2, color=\"Red\", label=f\"Sail Force X = {sail_force_x:.2f}\")\n",
    "plt.arrow(0, 0, 0, sail_force_y, head_width=0.2, color=\"Green\", label=f\"Sail Force Y = {sail_force_y:.2f}\")\n",
    "plt.xlim(-5, 5)\n",
    "plt.ylim(-5, 5)\n",
    "plt.legend()\n",
    "plt.show()"
   ],
   "id": "2d4c80eaebf20b0b",
   "outputs": [
    {
     "name": "stdout",
     "output_type": "stream",
     "text": [
      "AWA = -90.0\n",
      "TSA = 45.0\n",
      "AOA = -45.0\n"
     ]
    },
    {
     "data": {
      "text/plain": [
       "<Figure size 640x480 with 1 Axes>"
      ],
      "image/png": "[encoded data removed]"
     },
     "metadata": {},
     "output_type": "display_data"
    }
   ],
   "execution_count": 57
  },
  {
   "metadata": {
    "ExecuteTime": {
     "end_time": "2025-06-27T12:26:57.674552Z",
     "start_time": "2025-06-27T12:26:57.672564Z"
    }
   },
   "cell_type": "code",
   "source": "",
   "id": "73a78e50cdbe84e9",
   "outputs": [],
   "execution_count": null
  }
 ],
 "metadata": {
  "kernelspec": {
   "display_name": "Python 3",
   "language": "python",
   "name": "python3"
  },
  "language_info": {
   "codemirror_mode": {
    "name": "ipython",
    "version": 2
   },
   "file_extension": ".py",
   "mimetype": "text/x-python",
   "name": "python",
   "nbconvert_exporter": "python",
   "pygments_lexer": "ipython2",
   "version": "2.7.6"
  }
 },
 "nbformat": 4,
 "nbformat_minor": 5
}
