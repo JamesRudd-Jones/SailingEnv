{
 "cells": [
  {
   "cell_type": "code",
   "id": "initial_id",
   "metadata": {
    "collapsed": true,
    "ExecuteTime": {
     "end_time": "2025-06-05T10:22:15.380914Z",
     "start_time": "2025-06-05T10:22:13.128266Z"
    }
   },
   "source": [
    "import matplotlib.pyplot as plt\n",
    "import jax.numpy as jnp"
   ],
   "outputs": [],
   "execution_count": 1
  },
  {
   "metadata": {
    "ExecuteTime": {
     "end_time": "2025-06-05T10:22:15.663678Z",
     "start_time": "2025-06-05T10:22:15.542158Z"
    }
   },
   "cell_type": "code",
   "source": [
    "wind_dir: float = 180.0  # deg\n",
    "wind_speed: float = 5.0  # in ms^-1"
   ],
   "id": "75c3019f1f63c5d0",
   "outputs": [],
   "execution_count": 2
  },
  {
   "metadata": {
    "ExecuteTime": {
     "end_time": "2025-06-05T10:22:20.258419Z",
     "start_time": "2025-06-05T10:22:20.005077Z"
    }
   },
   "cell_type": "code",
   "source": [
    "wind_vel: jnp.ndarray = wind_speed * jnp.array((jnp.sin(jnp.radians(wind_dir)),\n",
    "                                                jnp.cos(jnp.radians(wind_dir))))  # in ms^-1"
   ],
   "id": "823121b2bf7ef8f",
   "outputs": [],
   "execution_count": 3
  },
  {
   "metadata": {
    "ExecuteTime": {
     "end_time": "2025-06-05T10:22:27.875761Z",
     "start_time": "2025-06-05T10:22:27.858151Z"
    }
   },
   "cell_type": "code",
   "source": "print(wind_vel)",
   "id": "e6398fbdcb8a29b3",
   "outputs": [
    {
     "name": "stdout",
     "output_type": "stream",
     "text": [
      "[-4.371139e-07 -5.000000e+00]\n"
     ]
    }
   ],
   "execution_count": 4
  },
  {
   "metadata": {
    "ExecuteTime": {
     "end_time": "2025-06-05T12:21:44.269440Z",
     "start_time": "2025-06-05T12:21:44.243380Z"
    }
   },
   "cell_type": "code",
   "source": [
    "sail_lift = 143\n",
    "sail_drag = 12.8\n",
    "apparent_wind_angle = jnp.radians(180-45)  # aka sailing at 45 degres\n",
    "\n",
    "sail_force_1 = sail_drag * jnp.cos(apparent_wind_angle) + sail_lift * jnp.sin(apparent_wind_angle)\n",
    "sail_force_2 = sail_lift * jnp.cos(apparent_wind_angle) - sail_drag * jnp.sin(apparent_wind_angle)\n",
    "print(sail_force_1, sail_force_2)"
   ],
   "id": "f8790b6033d3b2a9",
   "outputs": [
    {
     "name": "stdout",
     "output_type": "stream",
     "text": [
      "92.0653 -110.16723\n"
     ]
    }
   ],
   "execution_count": 19
  },
  {
   "metadata": {
    "ExecuteTime": {
     "end_time": "2025-06-05T12:21:44.441751Z",
     "start_time": "2025-06-05T12:21:44.429275Z"
    }
   },
   "cell_type": "code",
   "source": [
    "sail_lift = -143\n",
    "sail_drag = 12.8\n",
    "apparent_wind_angle = jnp.radians(-(180-45))  # aka sailing at 315 degrees\n",
    "\n",
    "sail_force_1 = sail_drag * jnp.cos(apparent_wind_angle) + sail_lift * jnp.sin(apparent_wind_angle)\n",
    "sail_force_2 = sail_lift * jnp.cos(apparent_wind_angle) - sail_drag * jnp.sin(apparent_wind_angle)\n",
    "print(sail_force_1, sail_force_2)"
   ],
   "id": "4d1e7ee881c9fb0d",
   "outputs": [
    {
     "name": "stdout",
     "output_type": "stream",
     "text": [
      "92.0653 110.16723\n"
     ]
    }
   ],
   "execution_count": 20
  },
  {
   "metadata": {},
   "cell_type": "code",
   "outputs": [],
   "execution_count": null,
   "source": "",
   "id": "6cfbb9cd575a55b3"
  },
  {
   "metadata": {
    "ExecuteTime": {
     "end_time": "2025-06-05T13:12:13.877936Z",
     "start_time": "2025-06-05T13:12:13.865688Z"
    }
   },
   "cell_type": "code",
   "source": [
    "boat_vel = jnp.array((1.0, 1.0))\n",
    "leeway_angle = jnp.arctan2(boat_vel[1], boat_vel[0])\n",
    "print(leeway_angle)"
   ],
   "id": "62869e4e4d9b4702",
   "outputs": [
    {
     "name": "stdout",
     "output_type": "stream",
     "text": [
      "0.7853982\n"
     ]
    }
   ],
   "execution_count": 36
  },
  {
   "metadata": {
    "ExecuteTime": {
     "end_time": "2025-06-05T13:14:40.738430Z",
     "start_time": "2025-06-05T13:14:40.728826Z"
    }
   },
   "cell_type": "code",
   "source": [
    "keel_lift = -261\n",
    "keel_drag = 25\n",
    "leeway_angle = jnp.radians(-10)  # aka sailing at 45 degres\n",
    "\n",
    "keel_force_1 = -keel_lift * jnp.sin(leeway_angle) - keel_drag * jnp.cos(leeway_angle)\n",
    "keel_force_2 = keel_drag * jnp.sin(leeway_angle) - keel_lift * jnp.cos(leeway_angle)\n",
    "print(keel_force_1, keel_force_2)"
   ],
   "id": "5a2f4c4f62f8c725",
   "outputs": [
    {
     "name": "stdout",
     "output_type": "stream",
     "text": [
      "-69.94237 252.69362\n"
     ]
    }
   ],
   "execution_count": 39
  },
  {
   "metadata": {
    "ExecuteTime": {
     "end_time": "2025-06-05T13:14:41.097015Z",
     "start_time": "2025-06-05T13:14:41.083132Z"
    }
   },
   "cell_type": "code",
   "source": [
    "keel_lift = 261\n",
    "keel_drag = 25\n",
    "leeway_angle = jnp.radians(10)  # aka sailing at 315 degrees\n",
    "\n",
    "keel_force_1 = -keel_lift * jnp.sin(leeway_angle) - keel_drag * jnp.cos(leeway_angle)\n",
    "keel_force_2 = keel_drag * jnp.sin(leeway_angle) - keel_lift * jnp.cos(leeway_angle)\n",
    "print(keel_force_1, keel_force_2)"
   ],
   "id": "e40eaa076aab7fe",
   "outputs": [
    {
     "name": "stdout",
     "output_type": "stream",
     "text": [
      "-69.94237 -252.69362\n"
     ]
    }
   ],
   "execution_count": 40
  },
  {
   "metadata": {},
   "cell_type": "code",
   "outputs": [],
   "execution_count": null,
   "source": "",
   "id": "7dd9cfbe2ee53a24"
  }
 ],
 "metadata": {
  "kernelspec": {
   "display_name": "Python 3",
   "language": "python",
   "name": "python3"
  },
  "language_info": {
   "codemirror_mode": {
    "name": "ipython",
    "version": 2
   },
   "file_extension": ".py",
   "mimetype": "text/x-python",
   "name": "python",
   "nbconvert_exporter": "python",
   "pygments_lexer": "ipython2",
   "version": "2.7.6"
  }
 },
 "nbformat": 4,
 "nbformat_minor": 5
}
