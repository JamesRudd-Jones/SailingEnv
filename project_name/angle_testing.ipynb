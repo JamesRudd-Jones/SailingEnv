{
 "cells": [
  {
   "cell_type": "code",
   "id": "initial_id",
   "metadata": {
    "collapsed": true,
    "ExecuteTime": {
     "end_time": "2025-09-16T16:10:12.043656Z",
     "start_time": "2025-09-16T16:10:11.542073Z"
    }
   },
   "source": [
    "import matplotlib.pyplot as plt\n",
    "import jax.numpy as jnp\n",
    "import jax"
   ],
   "outputs": [],
   "execution_count": 1
  },
  {
   "metadata": {
    "ExecuteTime": {
     "end_time": "2025-09-16T16:10:12.064173Z",
     "start_time": "2025-09-16T16:10:12.062040Z"
    }
   },
   "cell_type": "code",
   "source": [
    "wind_dir: float = 0.0  # deg\n",
    "wind_speed: float = 5.0  # in ms^-1"
   ],
   "id": "75c3019f1f63c5d0",
   "outputs": [],
   "execution_count": 2
  },
  {
   "metadata": {
    "ExecuteTime": {
     "end_time": "2025-09-16T16:10:12.230576Z",
     "start_time": "2025-09-16T16:10:12.115248Z"
    }
   },
   "cell_type": "code",
   "source": [
    "wind_vel: jnp.ndarray = -wind_speed * jnp.array((jnp.cos(jnp.radians(wind_dir)),\n",
    "                                                 jnp.sin(jnp.radians(wind_dir))))  # in ms^-1"
   ],
   "id": "823121b2bf7ef8f",
   "outputs": [],
   "execution_count": 3
  },
  {
   "metadata": {
    "ExecuteTime": {
     "end_time": "2025-09-16T16:10:12.246129Z",
     "start_time": "2025-09-16T16:10:12.241424Z"
    }
   },
   "cell_type": "code",
   "source": "print(wind_vel)",
   "id": "e6398fbdcb8a29b3",
   "outputs": [
    {
     "name": "stdout",
     "output_type": "stream",
     "text": [
      "[-5. -0.]\n"
     ]
    }
   ],
   "execution_count": 4
  },
  {
   "metadata": {
    "ExecuteTime": {
     "end_time": "2025-09-16T16:20:51.492490Z",
     "start_time": "2025-09-16T16:20:51.489735Z"
    }
   },
   "cell_type": "code",
   "source": [
    "sail_angle = jnp.radians(30.0)  # can range between 0 and 90\n",
    "aoa = -0.849802\n",
    "eff_aoa = -0.849082"
   ],
   "id": "ea3cdc2a2105e6fd",
   "outputs": [],
   "execution_count": 7
  },
  {
   "metadata": {
    "ExecuteTime": {
     "end_time": "2025-09-16T16:24:00.567355Z",
     "start_time": "2025-09-16T16:24:00.563760Z"
    }
   },
   "cell_type": "code",
   "source": [
    "sail_lift = 143\n",
    "sail_drag = 12.8\n",
    "apparent_wind_angle = -1.3734008  # aka sailing at 90 degrees\n",
    "\n",
    "sail_force_x = -sail_drag * jnp.cos(apparent_wind_angle) + sail_lift * jnp.sin(apparent_wind_angle)\n",
    "sail_force_y = -sail_lift * jnp.cos(apparent_wind_angle) - sail_drag * jnp.sin(apparent_wind_angle)\n",
    "print(sail_force_x, sail_force_y)"
   ],
   "id": "f8790b6033d3b2a9",
   "outputs": [
    {
     "name": "stdout",
     "output_type": "stream",
     "text": [
      "-142.73332 -15.493169\n"
     ]
    }
   ],
   "execution_count": 11
  },
  {
   "metadata": {
    "ExecuteTime": {
     "end_time": "2025-06-11T14:32:57.035850Z",
     "start_time": "2025-06-11T14:32:57.021790Z"
    }
   },
   "cell_type": "code",
   "source": [
    "sail_lift = -143\n",
    "sail_drag = 12.8\n",
    "apparent_wind_angle = jnp.radians(-(180-45))  # aka sailing at 315 degrees\n",
    "\n",
    "sail_force_1 = sail_drag * jnp.cos(apparent_wind_angle) + sail_lift * jnp.sin(apparent_wind_angle)\n",
    "sail_force_2 = sail_lift * jnp.cos(apparent_wind_angle) - sail_drag * jnp.sin(apparent_wind_angle)\n",
    "print(sail_force_1, sail_force_2)"
   ],
   "id": "4d1e7ee881c9fb0d",
   "outputs": [
    {
     "name": "stdout",
     "output_type": "stream",
     "text": [
      "92.0653 110.16723\n"
     ]
    }
   ],
   "execution_count": 6
  },
  {
   "metadata": {},
   "cell_type": "code",
   "outputs": [],
   "execution_count": null,
   "source": "",
   "id": "6cfbb9cd575a55b3"
  },
  {
   "metadata": {
    "ExecuteTime": {
     "end_time": "2025-06-11T16:38:28.884415Z",
     "start_time": "2025-06-11T16:38:28.873475Z"
    }
   },
   "cell_type": "code",
   "source": [
    "boat_vel = jnp.array((1.0, 0.0))\n",
    "leeway_angle = jnp.arctan2(boat_vel[1], boat_vel[0])\n",
    "print(leeway_angle)"
   ],
   "id": "62869e4e4d9b4702",
   "outputs": [
    {
     "name": "stdout",
     "output_type": "stream",
     "text": [
      "0.0\n"
     ]
    }
   ],
   "execution_count": 18
  },
  {
   "metadata": {
    "ExecuteTime": {
     "end_time": "2025-06-11T16:38:30.732730Z",
     "start_time": "2025-06-11T16:38:30.722013Z"
    }
   },
   "cell_type": "code",
   "source": [
    "keel_lift = 4900\n",
    "keel_drag = 14\n",
    "leeway_angle = leeway_angle\n",
    "\n",
    "keel_force_1 = -keel_lift * jnp.sin(leeway_angle) - keel_drag * jnp.cos(leeway_angle)\n",
    "keel_force_2 = keel_drag * jnp.sin(leeway_angle) - keel_lift * jnp.cos(leeway_angle)\n",
    "print(keel_force_1, keel_force_2)"
   ],
   "id": "98bfe5554897fc53",
   "outputs": [
    {
     "name": "stdout",
     "output_type": "stream",
     "text": [
      "-14.0 -4900.0\n"
     ]
    }
   ],
   "execution_count": 19
  },
  {
   "metadata": {
    "ExecuteTime": {
     "end_time": "2025-06-11T16:38:32.168862Z",
     "start_time": "2025-06-11T16:38:32.156019Z"
    }
   },
   "cell_type": "code",
   "source": [
    "keel_lift = -261\n",
    "keel_drag = 25\n",
    "leeway_angle = jnp.radians(-10)  # aka sailing at 45 degres\n",
    "\n",
    "keel_force_1 = -keel_lift * jnp.sin(leeway_angle) - keel_drag * jnp.cos(leeway_angle)\n",
    "keel_force_2 = keel_drag * jnp.sin(leeway_angle) - keel_lift * jnp.cos(leeway_angle)\n",
    "print(keel_force_1, keel_force_2)"
   ],
   "id": "5a2f4c4f62f8c725",
   "outputs": [
    {
     "name": "stdout",
     "output_type": "stream",
     "text": [
      "-69.94237 252.69362\n"
     ]
    }
   ],
   "execution_count": 20
  },
  {
   "metadata": {
    "ExecuteTime": {
     "end_time": "2025-06-11T15:54:30.697931Z",
     "start_time": "2025-06-11T15:54:30.686147Z"
    }
   },
   "cell_type": "code",
   "source": [
    "keel_lift = 261\n",
    "keel_drag = 25\n",
    "leeway_angle = jnp.radians(10)  # aka sailing at 315 degrees\n",
    "\n",
    "keel_force_1 = -keel_lift * jnp.sin(leeway_angle) - keel_drag * jnp.cos(leeway_angle)\n",
    "keel_force_2 = keel_drag * jnp.sin(leeway_angle) - keel_lift * jnp.cos(leeway_angle)\n",
    "print(keel_force_1, keel_force_2)"
   ],
   "id": "e40eaa076aab7fe",
   "outputs": [
    {
     "name": "stdout",
     "output_type": "stream",
     "text": [
      "-69.94237 -252.69362\n"
     ]
    }
   ],
   "execution_count": 13
  }
 ],
 "metadata": {
  "kernelspec": {
   "display_name": "Python 3",
   "language": "python",
   "name": "python3"
  },
  "language_info": {
   "codemirror_mode": {
    "name": "ipython",
    "version": 2
   },
   "file_extension": ".py",
   "mimetype": "text/x-python",
   "name": "python",
   "nbconvert_exporter": "python",
   "pygments_lexer": "ipython2",
   "version": "2.7.6"
  }
 },
 "nbformat": 4,
 "nbformat_minor": 5
}
